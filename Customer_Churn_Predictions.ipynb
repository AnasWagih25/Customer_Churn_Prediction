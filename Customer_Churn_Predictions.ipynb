{
  "nbformat": 4,
  "nbformat_minor": 0,
  "metadata": {
    "colab": {
      "provenance": [],
      "authorship_tag": "ABX9TyPZGqz8ZvBob+z3ptczErUU",
      "include_colab_link": true
    },
    "kernelspec": {
      "name": "python3",
      "display_name": "Python 3"
    },
    "language_info": {
      "name": "python"
    }
  },
  "cells": [
    {
      "cell_type": "markdown",
      "metadata": {
        "id": "view-in-github",
        "colab_type": "text"
      },
      "source": [
        "<a href=\"https://colab.research.google.com/github/AnasWagih25/Customer_Churn_Prediction/blob/main/Customer_Churn_Predictions.ipynb\" target=\"_parent\"><img src=\"https://colab.research.google.com/assets/colab-badge.svg\" alt=\"Open In Colab\"/></a>"
      ]
    },
    {
      "cell_type": "code",
      "execution_count": null,
      "metadata": {
        "colab": {
          "base_uri": "https://localhost:8080/"
        },
        "id": "oPLtMyvfoq8m",
        "outputId": "85af8a1b-4533-4177-cdec-2e643198f92b"
      },
      "outputs": [
        {
          "output_type": "stream",
          "name": "stdout",
          "text": [
            "-Decision Tree Accuracy: 0.7204\n",
            "              precision    recall  f1-score   support\n",
            "\n",
            "           0       0.81      0.81      0.81      1036\n",
            "           1       0.47      0.47      0.47       373\n",
            "\n",
            "    accuracy                           0.72      1409\n",
            "   macro avg       0.64      0.64      0.64      1409\n",
            "weighted avg       0.72      0.72      0.72      1409\n",
            "\n",
            "-Random Forest Accuracy: 0.7913\n",
            "              precision    recall  f1-score   support\n",
            "\n",
            "           0       0.83      0.91      0.86      1036\n",
            "           1       0.65      0.47      0.54       373\n",
            "\n",
            "    accuracy                           0.79      1409\n",
            "   macro avg       0.74      0.69      0.70      1409\n",
            "weighted avg       0.78      0.79      0.78      1409\n",
            "\n",
            "-XGBoost Accuracy: 0.7928\n",
            "              precision    recall  f1-score   support\n",
            "\n",
            "           0       0.84      0.88      0.86      1036\n",
            "           1       0.63      0.54      0.58       373\n",
            "\n",
            "    accuracy                           0.79      1409\n",
            "   macro avg       0.73      0.71      0.72      1409\n",
            "weighted avg       0.79      0.79      0.79      1409\n",
            "\n",
            " XGBoost Predicted Churn: No\n"
          ]
        },
        {
          "output_type": "stream",
          "name": "stderr",
          "text": [
            "/usr/local/lib/python3.11/dist-packages/xgboost/core.py:158: UserWarning: [18:40:30] WARNING: /workspace/src/learner.cc:740: \n",
            "Parameters: { \"use_label_encoder\" } are not used.\n",
            "\n",
            "  warnings.warn(smsg, UserWarning)\n"
          ]
        }
      ],
      "source": [
        "import pandas as pd\n",
        "import numpy as np\n",
        "from sklearn.model_selection import train_test_split\n",
        "from sklearn.preprocessing import LabelEncoder, StandardScaler\n",
        "from sklearn.ensemble import RandomForestClassifier\n",
        "from xgboost import XGBClassifier\n",
        "from sklearn.tree import DecisionTreeClassifier\n",
        "from sklearn.metrics import accuracy_score, classification_report, confusion_matrix\n",
        "\n",
        "# Load the dataset\n",
        "data = pd.read_csv(\"Telco-Customer-Churn.csv\")\n",
        "data.drop(columns=['customerID'], inplace=True)\n",
        "\n",
        "\n",
        "def encode_categorical(df):\n",
        "    for column in df.select_dtypes(include=['object']).columns:\n",
        "        df[column] = LabelEncoder().fit_transform(df[column])\n",
        "    return df\n",
        "\n",
        "data = encode_categorical(data)\n",
        "\n",
        "X = data.drop(columns=['Churn'])\n",
        "y = data['Churn']\n",
        "\n",
        "X_train, X_test, y_train, y_test = train_test_split(X, y, test_size=0.2, random_state=42)\n",
        "\n",
        "#Feature Scaling\n",
        "scaler = StandardScaler()\n",
        "X_train = scaler.fit_transform(X_train)\n",
        "X_test = scaler.transform(X_test)\n",
        "\n",
        "#Training Models\n",
        "models = {\n",
        "    \"Decision Tree\": DecisionTreeClassifier(),\n",
        "    \"Random Forest\": RandomForestClassifier(n_estimators=100),\n",
        "    \"XGBoost\": XGBClassifier(use_label_encoder=False, eval_metric='logloss')\n",
        "}\n",
        "\n",
        "for name, model in models.items():\n",
        "    model.fit(X_train, y_train)\n",
        "    y_pred = model.predict(X_test)\n",
        "    print(f\"-{name} Accuracy: {accuracy_score(y_test, y_pred):.4f}\")\n",
        "    print(classification_report(y_test, y_pred))\n",
        "\n",
        "#PREDICT Churn For Specific Customer:\n",
        "customer_data = {\n",
        "    \"gender\": \"Female\",\n",
        "    \"SeniorCitizen\": 0,\n",
        "    \"Partner\": \"Yes\",\n",
        "    \"Dependents\": \"No\",\n",
        "    \"tenure\": 12,\n",
        "    \"PhoneService\": \"Yes\",\n",
        "    \"MultipleLines\": \"No\",\n",
        "    \"InternetService\": \"Fiber optic\",\n",
        "    \"OnlineSecurity\": \"No\",\n",
        "    \"OnlineBackup\": \"Yes\",\n",
        "    \"DeviceProtection\": \"No\",\n",
        "    \"TechSupport\": \"Yes\",\n",
        "    \"StreamingTV\": \"No\",\n",
        "    \"StreamingMovies\": \"No\",\n",
        "    \"Contract\": \"Month-to-month\",\n",
        "    \"PaperlessBilling\": \"Yes\",\n",
        "    \"PaymentMethod\": \"Electronic check\",\n",
        "    \"MonthlyCharges\": 70.35,\n",
        "    \"TotalCharges\": 843.45\n",
        "}\n",
        "\n",
        "customer_df = pd.DataFrame([customer_data])\n",
        "\n",
        "customer_df = encode_categorical(customer_df)\n",
        "customer_df = scaler.transform(customer_df)\n",
        "model = \"XGBoost\" #Choose the model you want to use for the prediction\n",
        "prediction = models[model].predict(customer_df)\n",
        "\n",
        "print(f\" {model} Predicted Churn:\", \"Yes\" if prediction[0] == 1 else \"No\")\n"
      ]
    }
  ]
}